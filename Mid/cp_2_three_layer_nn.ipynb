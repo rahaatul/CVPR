{
 "cells": [
  {
   "cell_type": "markdown",
   "id": "21e46783",
   "metadata": {},
   "source": [
    "# 3-layer neural network"
   ]
  },
  {
   "cell_type": "code",
   "execution_count": 26,
   "id": "c80fd788",
   "metadata": {},
   "outputs": [],
   "source": [
    "import numpy as np\n",
    "import matplotlib.pyplot as plt\n",
    "\n",
    "np.random.seed(0)\n",
    "\n",
    "X = np.array([ [0,0], [0,1], [1,0], [1,1] ])\n",
    "Y = np.array([ [0], [1], [1], [0] ])"
   ]
  },
  {
   "cell_type": "code",
   "execution_count": 27,
   "id": "f460d8c7",
   "metadata": {},
   "outputs": [],
   "source": [
    "\n",
    "class NeuralNetwork3Layer(object):\n",
    "    def __init__(self):\n",
    "        inputLayerNeurons = 4\n",
    "        hiddenLayer1Neurons = 10\n",
    "        hiddenLayer2Neurons = 10\n",
    "        outLayerNeurons = 3\n",
    "        \n",
    "        self.learning_rate = 0.2\n",
    "        self.W_IH1 = np.random.randn(inputLayerNeurons, hiddenLayer1Neurons)\n",
    "        self.W_H1H2 = np.random.randn(hiddenLayer1Neurons, hiddenLayer2Neurons)\n",
    "        self.W_H2O = np.random.randn(hiddenLayer2Neurons, outLayerNeurons)\n",
    "        \n",
    "    def sigmoid(self, x, der=False):\n",
    "        if der:\n",
    "            return x * (1 - x)\n",
    "        return 1 / (1 + np.exp(-x))\n",
    "        \n",
    "    def feedForward(self, X):\n",
    "        hidden1_input = np.dot(X, self.W_IH1)\n",
    "        self.hidden1_output = self.sigmoid(hidden1_input)\n",
    "        \n",
    "        hidden2_input = np.dot(self.hidden1_output, self.W_H1H2)\n",
    "        self.hidden2_output = self.sigmoid(hidden2_input)\n",
    "        \n",
    "        output_input = np.dot(self.hidden2_output, self.W_H2O)\n",
    "        pred = self.sigmoid(output_input)\n",
    "        return pred\n",
    "        \n",
    "    def backPropagation(self, X, Y, pred):\n",
    "        output_error = Y - pred\n",
    "        output_delta = self.learning_rate * output_error * self.sigmoid(pred, der=True)\n",
    "        \n",
    "        hidden2_error = output_delta.dot(self.W_H2O.T)\n",
    "        hidden2_delta = self.learning_rate * hidden2_error * self.sigmoid(self.hidden2_output, der=True)\n",
    "        \n",
    "        hidden1_error = hidden2_delta.dot(self.W_H1H2.T)\n",
    "        hidden1_delta = self.learning_rate * hidden1_error * self.sigmoid(self.hidden1_output, der=True)\n",
    "        \n",
    "        self.W_IH1 += X.T.dot(hidden1_delta)\n",
    "        self.W_H1H2 += self.hidden1_output.T.dot(hidden2_delta)\n",
    "        self.W_H2O += self.hidden2_output.T.dot(output_delta)\n",
    "        \n",
    "    def train(self, X, Y):\n",
    "        output = self.feedForward(X)\n",
    "        self.backPropagation(X, Y, output)\n"
   ]
  },
  {
   "cell_type": "code",
   "execution_count": 28,
   "id": "b881dc37",
   "metadata": {},
   "outputs": [
    {
     "data": {
      "text/plain": [
       "[<matplotlib.lines.Line2D at 0x275d2e69370>]"
      ]
     },
     "execution_count": 28,
     "metadata": {},
     "output_type": "execute_result"
    },
    {
     "data": {
      "image/png": "[encoded data removed]",
      "text/plain": [
       "<Figure size 640x480 with 1 Axes>"
      ]
     },
     "metadata": {},
     "output_type": "display_data"
    }
   ],
   "source": [
    "NN = NeuralNetwork()\n",
    "\n",
    "err = []\n",
    "for i in range(10000):\n",
    "    NN.train(X,Y)\n",
    "    err.append(np.mean(np.square(Y - NN.feedForward(X))))\n",
    "\n",
    "plt.plot(err)"
   ]
  },
  {
   "cell_type": "code",
   "execution_count": 29,
   "id": "b914a17c",
   "metadata": {},
   "outputs": [
    {
     "name": "stdout",
     "output_type": "stream",
     "text": [
      "[0.05285688]\n"
     ]
    }
   ],
   "source": [
    "print(NN.feedForward([0,0]))"
   ]
  },
  {
   "cell_type": "code",
   "execution_count": 30,
   "id": "5cce9cbe",
   "metadata": {},
   "outputs": [
    {
     "name": "stdout",
     "output_type": "stream",
     "text": [
      "[0.04283578]\n"
     ]
    }
   ],
   "source": [
    "print(NN.feedForward([1,1]))"
   ]
  },
  {
   "cell_type": "code",
   "execution_count": 31,
   "id": "289bd6fe",
   "metadata": {},
   "outputs": [
    {
     "name": "stdout",
     "output_type": "stream",
     "text": [
      "[0.95335457]\n"
     ]
    }
   ],
   "source": [
    "print(NN.feedForward([1,0]))"
   ]
  },
  {
   "cell_type": "code",
   "execution_count": 32,
   "id": "79f92343",
   "metadata": {},
   "outputs": [
    {
     "name": "stdout",
     "output_type": "stream",
     "text": [
      "[0.95587195]\n"
     ]
    }
   ],
   "source": [
    "print(NN.feedForward([0,1]))"
   ]
  }
 ],
 "metadata": {
  "kernelspec": {
   "display_name": "Python (Tensorflow)",
   "language": "python",
   "name": "tf2.7"
  },
  "language_info": {
   "codemirror_mode": {
    "name": "ipython",
    "version": 3
   },
   "file_extension": ".py",
   "mimetype": "text/x-python",
   "name": "python",
   "nbconvert_exporter": "python",
   "pygments_lexer": "ipython3",
   "version": "3.8.17"
  }
 },
 "nbformat": 4,
 "nbformat_minor": 5
}
